{
 "cells": [
  {
   "cell_type": "code",
   "execution_count": null,
   "metadata": {},
   "outputs": [],
   "source": [
    "import json\n",
    "import threading\n",
    "import dashscope\n",
    "import gradio as gr\n",
    "import speech_recognition as sr\n",
    "import logging\n",
    "\n",
    "from ali_stt import Recognition,Callback"
   ]
  },
  {
   "cell_type": "code",
   "execution_count": null,
   "metadata": {},
   "outputs": [],
   "source": [
    "def get_logger():\n",
    "    # 日志收集器\n",
    "    logger = logging.getLogger(__name__)\n",
    "    logger.setLevel(logging.DEBUG)\n",
    "    \n",
    "    # 设置控制台处理器，当logger被调用时，控制台处理器额外输出被调用的位置。\n",
    "    # 创建一个控制台处理器并设置级别为DEBUG\n",
    "    ch = logging.StreamHandler()\n",
    "    ch.setLevel(logging.DEBUG)\n",
    "    # 创建一个格式化器，并设置格式包括文件名和行号\n",
    "    formatter = logging.Formatter('%(asctime)s - %(name)s - %(levelname)s - %(pathname)s:%(lineno)d - %(message)s')\n",
    "    ch.setFormatter(formatter)\n",
    "\n",
    "    # 将处理器添加到logger\n",
    "    logger.addHandler(ch)\n",
    "\n",
    "    return logger"
   ]
  },
  {
   "cell_type": "code",
   "execution_count": null,
   "metadata": {},
   "outputs": [],
   "source": [
    "recognizer = sr.Recognizer()\n",
    "logger = get_logger()\n",
    "with sr.Microphone() as source:\n",
    "    recognizer.adjust_for_ambient_noise(source)          # 调整背景噪音\n",
    "    logger.info(\"Listening for wake word 'hei siri'...\")\n",
    "    while True:\n",
    "        audio = recognizer.listen(source)            # 监听麦克风\n",
    "        if audio:\n",
    "            # 把音频保存为wav文件\n",
    "            with open(\"test.wav\", \"wb\") as f:\n",
    "                f.write(audio.get_wav_data(convert_rate=16000))\n",
    "            break"
   ]
  },
  {
   "cell_type": "code",
   "execution_count": null,
   "metadata": {},
   "outputs": [],
   "source": []
  },
  {
   "cell_type": "code",
   "execution_count": 25,
   "metadata": {},
   "outputs": [
    {
     "name": "stdout",
     "output_type": "stream",
     "text": [
      "音频输入已得到\n",
      "request_timeout is None\n"
     ]
    }
   ],
   "source": [
    "result = recognition.call(\"test.wav\")"
   ]
  },
  {
   "cell_type": "code",
   "execution_count": 31,
   "metadata": {},
   "outputs": [
    {
     "data": {
      "text/plain": [
       "'喂，你好。'"
      ]
     },
     "execution_count": 31,
     "metadata": {},
     "output_type": "execute_result"
    }
   ],
   "source": [
    "result.get_sentence()[0]['text']"
   ]
  },
  {
   "cell_type": "code",
   "execution_count": null,
   "metadata": {},
   "outputs": [],
   "source": []
  }
 ],
 "metadata": {
  "kernelspec": {
   "display_name": "aidcm_qwen",
   "language": "python",
   "name": "python3"
  },
  "language_info": {
   "codemirror_mode": {
    "name": "ipython",
    "version": 3
   },
   "file_extension": ".py",
   "mimetype": "text/x-python",
   "name": "python",
   "nbconvert_exporter": "python",
   "pygments_lexer": "ipython3",
   "version": "3.11.9"
  }
 },
 "nbformat": 4,
 "nbformat_minor": 2
}
